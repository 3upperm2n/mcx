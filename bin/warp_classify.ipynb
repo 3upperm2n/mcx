{
 "cells": [
  {
   "cell_type": "code",
   "execution_count": 1,
   "metadata": {
    "collapsed": false,
    "deletable": true,
    "editable": true
   },
   "outputs": [],
   "source": [
    "%load_ext autoreload\n",
    "%autoreload 2\n",
    "\n",
    "import warnings\n",
    "import pandas as pd\n",
    "import numpy as np\n",
    "import os\n",
    "import sys # error msg, add the modules\n",
    "import operator # sorting\n",
    "from math import *\n",
    "import matplotlib.pyplot as plt\n",
    "\n",
    "sys.path.append('../../../')\n",
    "\n",
    "warnings.filterwarnings(\"ignore\", category=np.VisibleDeprecationWarning)\n",
    "\n",
    "import prep\n",
    "from warp import *"
   ]
  },
  {
   "cell_type": "code",
   "execution_count": 2,
   "metadata": {
    "collapsed": true,
    "deletable": true,
    "editable": true
   },
   "outputs": [],
   "source": [
    "trace_file = 'trace.csv'\n",
    "metrics_file = 'metrics.csv'\n",
    "\n",
    "# read trace and metrics into dataframe, from generated trace file\n",
    "df_kernel_trace, df_metrics = prep.Prep_trace_metrics(trace_file, metrics_file)"
   ]
  },
  {
   "cell_type": "code",
   "execution_count": 3,
   "metadata": {
    "collapsed": false,
    "deletable": true,
    "editable": true
   },
   "outputs": [
    {
     "name": "stdout",
     "output_type": "stream",
     "text": [
      "mcx_main_loop\n"
     ]
    }
   ],
   "source": [
    "unique_kerns = []\n",
    "for index, kenname in enumerate(df_kernel_trace.Name.unique()):\n",
    "    if index > 0 and 'memcpy' not in kenname:\n",
    "        head = kenname.split('(')[0]\n",
    "        if '<' in head:\n",
    "            head = head.split('<')[0]\n",
    "        #print head\n",
    "    \n",
    "        if 'void' in head:\n",
    "            head = head.split(' ')\n",
    "            #print head[1]\n",
    "            head = head[1]\n",
    "            \n",
    "        if head not in unique_kerns:\n",
    "            unique_kerns.append(head)\n",
    "            print head"
   ]
  },
  {
   "cell_type": "code",
   "execution_count": 4,
   "metadata": {
    "collapsed": false,
    "deletable": true,
    "editable": true
   },
   "outputs": [
    {
     "name": "stdout",
     "output_type": "stream",
     "text": [
      "LDG (global load) clocks (per warp) \t\t = 10632700.0\n",
      "STG (global store) clocks (per warp) \t\t = 57.0\n",
      "LDS (shared memory load) clocks (per warp) \t = 404378.0\n",
      "STS (shared memory store) clocks (per warp) \t = 119225.0\n",
      "=> Memory inst. (per warp) \t\t\t = 11156360.0 (clocks)\n",
      "\n",
      "Integer inst. (per warp) \t\t = 17139240.0 (clocks)\n",
      "FP32 inst. (per warp) \t\t\t = 21513795.0 (clocks)\n",
      "FP64 inst. (per warp) \t\t\t = 955008.0 (clocks)\n",
      "Compute load store inst. (per warp) \t = 2482380.0 (clocks)\n",
      "=> Compute inst. (per warp) \t\t = 42090423.0 (clocks)\n",
      "\n",
      "Compute Intensive : cmp / mem = 3.77277382587\n"
     ]
    },
    {
     "data": {
      "text/html": [
       "<div>\n",
       "<table border=\"1\" class=\"dataframe\">\n",
       "  <thead>\n",
       "    <tr style=\"text-align: right;\">\n",
       "      <th></th>\n",
       "      <th>kern_name</th>\n",
       "      <th>m2c_ratio</th>\n",
       "      <th>duration_ms</th>\n",
       "      <th>gridx</th>\n",
       "      <th>gridy</th>\n",
       "      <th>gridz</th>\n",
       "      <th>blkx</th>\n",
       "      <th>blky</th>\n",
       "      <th>blkz</th>\n",
       "      <th>reg_per_thread</th>\n",
       "      <th>...</th>\n",
       "      <th>l2_utilization</th>\n",
       "      <th>l2_atomic_throughput</th>\n",
       "      <th>l2_atomic_transactions</th>\n",
       "      <th>sysmem_utilization</th>\n",
       "      <th>ecc_throughput</th>\n",
       "      <th>sysmem_read_utilization</th>\n",
       "      <th>sysmem_write_utilization</th>\n",
       "      <th>eligible_warps_per_cycle</th>\n",
       "      <th>flop_sp_efficiency</th>\n",
       "      <th>flop_dp_efficiency</th>\n",
       "    </tr>\n",
       "  </thead>\n",
       "  <tbody>\n",
       "    <tr>\n",
       "      <th>0</th>\n",
       "      <td>mcx_main_loop</td>\n",
       "      <td>0.265057</td>\n",
       "      <td>188.351033</td>\n",
       "      <td>192.0</td>\n",
       "      <td>1.0</td>\n",
       "      <td>1.0</td>\n",
       "      <td>64.0</td>\n",
       "      <td>1.0</td>\n",
       "      <td>1.0</td>\n",
       "      <td>68.0</td>\n",
       "      <td>...</td>\n",
       "      <td>Low (3)</td>\n",
       "      <td>23.194589GB/s</td>\n",
       "      <td>242580238</td>\n",
       "      <td>Low (1)</td>\n",
       "      <td>0.000000B/s</td>\n",
       "      <td>Low (1)</td>\n",
       "      <td>Low (1)</td>\n",
       "      <td>5.135198</td>\n",
       "      <td>3.662662%</td>\n",
       "      <td>0.000000%</td>\n",
       "    </tr>\n",
       "  </tbody>\n",
       "</table>\n",
       "<p>1 rows × 124 columns</p>\n",
       "</div>"
      ],
      "text/plain": [
       "       kern_name  m2c_ratio  duration_ms  gridx  gridy  gridz  blkx  blky  \\\n",
       "0  mcx_main_loop   0.265057   188.351033  192.0    1.0    1.0  64.0   1.0   \n",
       "\n",
       "   blkz  reg_per_thread        ...          l2_utilization  \\\n",
       "0   1.0            68.0        ...                 Low (3)   \n",
       "\n",
       "  l2_atomic_throughput l2_atomic_transactions sysmem_utilization  \\\n",
       "0        23.194589GB/s              242580238            Low (1)   \n",
       "\n",
       "  ecc_throughput sysmem_read_utilization sysmem_write_utilization  \\\n",
       "0    0.000000B/s                 Low (1)                  Low (1)   \n",
       "\n",
       "  eligible_warps_per_cycle flop_sp_efficiency flop_dp_efficiency  \n",
       "0                 5.135198          3.662662%          0.000000%  \n",
       "\n",
       "[1 rows x 124 columns]"
      ]
     },
     "execution_count": 4,
     "metadata": {},
     "output_type": "execute_result"
    }
   ],
   "source": [
    "target_kern_name = 'mcx_main_loop'\n",
    "\n",
    "sass_result = target_kern_name + '.sm_52.sass.result'\n",
    "kernel_stat_out ='kernelStat_' + target_kern_name + '.csv'\n",
    "\n",
    "out_columns = prep.init_df_columns(df_metrics)\n",
    "df_kern = pd.DataFrame(columns=out_columns)\n",
    "\n",
    "# current kernel trace\n",
    "df_current = prep.GenCurKernInfo(df_kernel_trace, df_metrics,target_kern_name, out_columns)\n",
    "# add current trace\n",
    "df_kern = df_kern.append(df_current, ignore_index=True)\n",
    "\n",
    "warp_inst = WarpInst()\n",
    "warp_inst.run(df_kern, sass_result)\n",
    "\n",
    "df_kern.insert(1, 'm2c_ratio', warp_inst.mem_clks / warp_inst.cmp_clks)\n",
    "df_kern.to_csv(kernel_stat_out, index=False, encoding='utf-8')\n",
    "df_kern"
   ]
  }
 ],
 "metadata": {
  "kernelspec": {
   "display_name": "Python [conda root]",
   "language": "python",
   "name": "conda-root-py"
  },
  "language_info": {
   "codemirror_mode": {
    "name": "ipython",
    "version": 2
   },
   "file_extension": ".py",
   "mimetype": "text/x-python",
   "name": "python",
   "nbconvert_exporter": "python",
   "pygments_lexer": "ipython2",
   "version": "2.7.13"
  }
 },
 "nbformat": 4,
 "nbformat_minor": 2
}
